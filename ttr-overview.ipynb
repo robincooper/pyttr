{
 "cells": [
  {
   "cell_type": "markdown",
   "metadata": {
    "deletable": true,
    "editable": true
   },
   "source": [
    "# Examples from TTR overview lecture in `pyttr`"
   ]
  },
  {
   "cell_type": "code",
   "execution_count": 1,
   "metadata": {
    "collapsed": false,
    "deletable": true,
    "editable": true
   },
   "outputs": [],
   "source": [
    "from ttrtypes import Type,BType,PType,Pred,Possibility,RecType,Fun,\\\n",
    "                     TTRStringType,KPlusStringType,LazyObj\n",
    "from records import Rec\n",
    "from utils import show, to_ipython_latex"
   ]
  },
  {
   "cell_type": "code",
   "execution_count": 2,
   "metadata": {
    "collapsed": false
   },
   "outputs": [],
   "source": [
    "from IPython.display import Latex\n",
    "\n",
    "def print_latex(obj):\n",
    "    return print(to_ipython_latex(obj))\n",
    "\n",
    "def show_latex(obj):\n",
    "    return Latex(to_ipython_latex(obj))"
   ]
  },
  {
   "cell_type": "markdown",
   "metadata": {
    "deletable": true,
    "editable": true
   },
   "source": [
    "## Judgement"
   ]
  },
  {
   "cell_type": "code",
   "execution_count": 3,
   "metadata": {
    "collapsed": false,
    "deletable": true,
    "editable": true
   },
   "outputs": [
    {
     "name": "stdout",
     "output_type": "stream",
     "text": [
      "True\n"
     ]
    },
    {
     "data": {
      "text/latex": [
       "\\begin{equation}T_{0}\\end{equation}"
      ],
      "text/plain": [
       "<IPython.core.display.Latex object>"
      ]
     },
     "execution_count": 3,
     "metadata": {},
     "output_type": "execute_result"
    }
   ],
   "source": [
    "T = Type()\n",
    "T.judge('a')\n",
    "\n",
    "print(T.query('a'))\n",
    "show_latex(T)"
   ]
  },
  {
   "cell_type": "code",
   "execution_count": 4,
   "metadata": {
    "collapsed": false
   },
   "outputs": [
    {
     "name": "stdout",
     "output_type": "stream",
     "text": [
      "\\begin{equation}T_{0}\\end{equation}\n"
     ]
    }
   ],
   "source": [
    "print_latex(T)"
   ]
  },
  {
   "cell_type": "markdown",
   "metadata": {
    "deletable": true,
    "editable": true
   },
   "source": [
    "## Basic types"
   ]
  },
  {
   "cell_type": "code",
   "execution_count": 5,
   "metadata": {
    "collapsed": false,
    "deletable": true,
    "editable": true
   },
   "outputs": [
    {
     "name": "stdout",
     "output_type": "stream",
     "text": [
      "True\n"
     ]
    },
    {
     "data": {
      "text/latex": [
       "\\begin{equation}Ind\\end{equation}"
      ],
      "text/plain": [
       "<IPython.core.display.Latex object>"
      ]
     },
     "execution_count": 5,
     "metadata": {},
     "output_type": "execute_result"
    }
   ],
   "source": [
    "Ind = BType('Ind')\n",
    "Ind.judge('a')\n",
    "\n",
    "print(Ind.query('a'))\n",
    "show_latex(Ind)"
   ]
  },
  {
   "cell_type": "markdown",
   "metadata": {
    "deletable": true,
    "editable": true
   },
   "source": [
    "## Intensionality"
   ]
  },
  {
   "cell_type": "code",
   "execution_count": 6,
   "metadata": {
    "collapsed": false,
    "deletable": true,
    "editable": true
   },
   "outputs": [
    {
     "name": "stdout",
     "output_type": "stream",
     "text": [
      "['a', 'b']\n",
      "True\n",
      "False\n"
     ]
    }
   ],
   "source": [
    "T1 = Type()\n",
    "T2 = Type()\n",
    "T1.judge('a')\n",
    "T1.judge('b')\n",
    "T2.judge('a')\n",
    "T2.judge('b')\n",
    "\n",
    "print(T1.witness_cache)\n",
    "print(T1.witness_cache == T2.witness_cache)\n",
    "print(T1==T2)"
   ]
  },
  {
   "cell_type": "code",
   "execution_count": 7,
   "metadata": {
    "collapsed": false
   },
   "outputs": [
    {
     "data": {
      "text/latex": [
       "\\begin{equation}T_{1}\\end{equation}"
      ],
      "text/plain": [
       "<IPython.core.display.Latex object>"
      ]
     },
     "execution_count": 7,
     "metadata": {},
     "output_type": "execute_result"
    }
   ],
   "source": [
    "show_latex(T1)"
   ]
  },
  {
   "cell_type": "code",
   "execution_count": 8,
   "metadata": {
    "collapsed": false
   },
   "outputs": [
    {
     "data": {
      "text/latex": [
       "\\begin{equation}T_{2}\\end{equation}"
      ],
      "text/plain": [
       "<IPython.core.display.Latex object>"
      ]
     },
     "execution_count": 8,
     "metadata": {},
     "output_type": "execute_result"
    }
   ],
   "source": [
    "show_latex(T2)"
   ]
  },
  {
   "cell_type": "markdown",
   "metadata": {
    "deletable": true,
    "editable": true
   },
   "source": [
    "## Ptypes"
   ]
  },
  {
   "cell_type": "code",
   "execution_count": 9,
   "metadata": {
    "collapsed": false,
    "deletable": true,
    "editable": true
   },
   "outputs": [
    {
     "name": "stdout",
     "output_type": "stream",
     "text": [
      "True\n",
      "False\n"
     ]
    }
   ],
   "source": [
    "run = Pred('run',[Ind])\n",
    "hug = Pred('hug',[Ind,Ind])\n",
    "Ind.judge('b')\n",
    "Ind.judge('d')\n",
    "run_d = PType(run,['d'])\n",
    "hug_b_d = PType(hug,['b','d'])\n",
    "run_d.judge('e1')\n",
    "hug_b_d.judge('e2')\n",
    "\n",
    "print(run_d.query('e1'))\n",
    "print(hug_b_d.query('e1'))"
   ]
  },
  {
   "cell_type": "code",
   "execution_count": 10,
   "metadata": {
    "collapsed": false
   },
   "outputs": [
    {
     "data": {
      "text/latex": [
       "\\begin{equation}hug(b, d)\\end{equation}"
      ],
      "text/plain": [
       "<IPython.core.display.Latex object>"
      ]
     },
     "execution_count": 10,
     "metadata": {},
     "output_type": "execute_result"
    }
   ],
   "source": [
    "show_latex(hug_b_d)"
   ]
  },
  {
   "cell_type": "code",
   "execution_count": 11,
   "metadata": {
    "collapsed": false
   },
   "outputs": [
    {
     "data": {
      "text/latex": [
       "\\begin{equation}run(d)\\end{equation}"
      ],
      "text/plain": [
       "<IPython.core.display.Latex object>"
      ]
     },
     "execution_count": 11,
     "metadata": {},
     "output_type": "execute_result"
    }
   ],
   "source": [
    "show_latex(run_d)"
   ]
  },
  {
   "cell_type": "markdown",
   "metadata": {
    "deletable": true,
    "editable": true
   },
   "source": [
    "## Possibilities (models)"
   ]
  },
  {
   "cell_type": "code",
   "execution_count": 12,
   "metadata": {
    "collapsed": false,
    "deletable": true,
    "editable": true
   },
   "outputs": [
    {
     "name": "stdout",
     "output_type": "stream",
     "text": [
      "\n",
      "M1:\n",
      "_____________________________________________\n",
      "Ind: [a, b, d]\n",
      "run(d): [e1]\n",
      "hug(b, d): [e2]\n",
      "_____________________________________________\n",
      "\n"
     ]
    }
   ],
   "source": [
    "M1 = Possibility('M1')\n",
    "\n",
    "Ind.in_poss(M1)\n",
    "run_d.in_poss(M1)\n",
    "hug_b_d.in_poss(M1)\n",
    "\n",
    "print(show(M1))"
   ]
  },
  {
   "cell_type": "code",
   "execution_count": 13,
   "metadata": {
    "collapsed": false,
    "deletable": true,
    "editable": true
   },
   "outputs": [
    {
     "name": "stdout",
     "output_type": "stream",
     "text": [
      "\n",
      "M2:\n",
      "_____________________________________________\n",
      "Ind: [c]\n",
      "run(c): [e1]\n",
      "_____________________________________________\n",
      "\n"
     ]
    }
   ],
   "source": [
    "M2 = Possibility('M2')\n",
    "\n",
    "BType('Ind').in_poss(M2).judge('c')\n",
    "PType(run,['c']).in_poss(M2).judge('e1')\n",
    "\n",
    "print(show(M2))"
   ]
  },
  {
   "cell_type": "markdown",
   "metadata": {
    "deletable": true,
    "editable": true
   },
   "source": [
    "## Record Types"
   ]
  },
  {
   "cell_type": "code",
   "execution_count": 21,
   "metadata": {
    "collapsed": false,
    "deletable": true,
    "editable": true
   },
   "outputs": [
    {
     "name": "stdout",
     "output_type": "stream",
     "text": [
      "{x : Ind, c_{boy} : (lambda v:Ind . boy(v), [x]), y : Ind, c_{dog} : (lambda v:Ind . dog(v), [y]), e : (lambda v_1:Ind . lambda v_2:Ind . hug(v_1, v_2), [x, y])}\n"
     ]
    },
    {
     "data": {
      "text/latex": [
       "\\begin{equation}\\left\\{\\begin{array}{rcl}\n",
       "x &:& Ind\\\\\n",
       "c_{boy} &:& \\langle \\lambda v:Ind . boy(v), [ x]\\rangle\\\\\n",
       "y &:& Ind\\\\\n",
       "c_{dog} &:& \\langle \\lambda v:Ind . dog(v), [ y]\\rangle\\\\\n",
       "e &:& \\langle \\lambda v_1:Ind . \\lambda v_2:Ind . hug(v_1, v_2), [ x, y]\\rangle\n",
       "\\end{array}\\right\\}\\end{equation}"
      ],
      "text/plain": [
       "<IPython.core.display.Latex object>"
      ]
     },
     "execution_count": 21,
     "metadata": {},
     "output_type": "execute_result"
    }
   ],
   "source": [
    "boy = Pred('boy',[Ind])\n",
    "dog = Pred('dog',[Ind])\n",
    "a_boy_hugs_a_dog = RecType({'x':Ind,\n",
    "                            'c_{boy}':(Fun('v',Ind,PType(boy,['v'])), ['x']),\n",
    "                            'y':Ind,\n",
    "                            'c_{dog}':(Fun('v',Ind,PType(dog,['v'])), ['y']),\n",
    "                            'e':(Fun('v_1',Ind,Fun('v_2',Ind, PType(hug,['v_1','v_2']))), \n",
    "                                     ['x','y'])})\n",
    "print(show(a_boy_hugs_a_dog))\n",
    "show_latex(a_boy_hugs_a_dog)"
   ]
  },
  {
   "cell_type": "code",
   "execution_count": 15,
   "metadata": {
    "collapsed": false,
    "deletable": true,
    "editable": true
   },
   "outputs": [
    {
     "name": "stdout",
     "output_type": "stream",
     "text": [
      "\n",
      "M3:\n",
      "_____________________________________________\n",
      "Ind: [a, b]\n",
      "boy(a): [s1]\n",
      "dog(b): [s2]\n",
      "hug(a, b): [s3]\n",
      "_____________________________________________\n",
      "\n"
     ]
    }
   ],
   "source": [
    "M3 = Possibility('M3')\n",
    "Ind3 = BType('Ind')\n",
    "Ind3.in_poss(M3)\n",
    "Ind3.judge('a')\n",
    "Ind3.judge('b')\n",
    "PType(boy,['a']).in_poss(M3).judge('s_1')\n",
    "PType(dog,['b']).in_poss(M3).judge('s_2')\n",
    "PType(hug,['a','b']).in_poss(M3).judge('s3')\n",
    "\n",
    "print(show(M3))"
   ]
  },
  {
   "cell_type": "code",
   "execution_count": 16,
   "metadata": {
    "collapsed": false,
    "deletable": true,
    "editable": true
   },
   "outputs": [
    {
     "name": "stdout",
     "output_type": "stream",
     "text": [
      "{x = a, c_boy = s1, y = b, c_dog = s2, e = s3}\n"
     ]
    }
   ],
   "source": [
    "r1 = Rec({'x':'a','c_boy':'s1','y':'b','c_dog':'s2','e':'s3'})\n",
    "\n",
    "print(show(r1))"
   ]
  },
  {
   "cell_type": "code",
   "execution_count": 17,
   "metadata": {
    "collapsed": false,
    "deletable": true,
    "editable": true
   },
   "outputs": [
    {
     "name": "stdout",
     "output_type": "stream",
     "text": [
      "False\n"
     ]
    }
   ],
   "source": [
    "print(a_boy_hugs_a_dog.in_poss(M3).query(r1))"
   ]
  },
  {
   "cell_type": "markdown",
   "metadata": {
    "deletable": true,
    "editable": true
   },
   "source": [
    "## String types\n",
    "\n",
    "May not yet work in general."
   ]
  },
  {
   "cell_type": "code",
   "execution_count": 18,
   "metadata": {
    "collapsed": false,
    "deletable": true,
    "editable": true
   },
   "outputs": [
    {
     "name": "stdout",
     "output_type": "stream",
     "text": [
      "pick_up(a, c)^attract_attention(a, b)^throw(a, c)^run_after(b, c)^pick_up(b, c)^return_stick(b, c, a)+\n"
     ]
    },
    {
     "data": {
      "text/latex": [
       "\\begin{equation}pick\\_up(a, c)⁀attract\\_attention(a, b)⁀throw(a, c)⁀run\\_after(b, c)⁀pick\\_up(b, c)⁀return\\_stick(b, c, a)+\\end{equation}"
      ],
      "text/plain": [
       "<IPython.core.display.Latex object>"
      ]
     },
     "execution_count": 18,
     "metadata": {},
     "output_type": "execute_result"
    }
   ],
   "source": [
    "M4 = Possibility('M4')\n",
    "pick_up = Pred('pick_up',[Ind,Ind])\n",
    "attract_attention = Pred('attract_attention',[Ind,Ind])\n",
    "throw = Pred('throw',[Ind,Ind])\n",
    "run_after = Pred('run_after',[Ind,Ind])\n",
    "return_stick = Pred('return_stick',[Ind,Ind,Ind])\n",
    "Ind4 = BType('Ind')\n",
    "Ind4.in_poss(M4)\n",
    "Ind4.judge('a')\n",
    "Ind4.judge('b')\n",
    "Ind4.judge('c')\n",
    "pick_up_a_c = PType(pick_up,['a','c'])\n",
    "attract_attention_a_b = PType(attract_attention,['a','b'])\n",
    "throw_a_c = PType(throw,['a','c'])\n",
    "run_after_b_c = PType(run_after,['b','c'])\n",
    "pick_up_b_c = PType(pick_up,['b','c'])\n",
    "return_stick_b_c_a = PType(return_stick,['b','c','a'])\n",
    "FetchOnce_a_b_c = TTRStringType([pick_up_a_c,attract_attention_a_b,throw_a_c,run_after_b_c,\n",
    "                                 pick_up_b_c,return_stick_b_c_a])\n",
    "Fetch_a_b_c = KPlusStringType(FetchOnce_a_b_c)\n",
    "\n",
    "print(show(Fetch_a_b_c))\n",
    "show_latex(Fetch_a_b_c)"
   ]
  },
  {
   "cell_type": "code",
   "execution_count": 19,
   "metadata": {
    "collapsed": false
   },
   "outputs": [
    {
     "name": "stdout",
     "output_type": "stream",
     "text": [
      "\\begin{equation}pick\\_up(a, c)⁀attract\\_attention(a, b)⁀throw(a, c)⁀run\\_after(b, c)⁀pick\\_up(b, c)⁀return\\_stick(b, c, a)+\\end{equation}\n"
     ]
    }
   ],
   "source": [
    "print_latex(Fetch_a_b_c)"
   ]
  },
  {
   "cell_type": "code",
   "execution_count": 25,
   "metadata": {
    "collapsed": false,
    "deletable": true,
    "editable": true
   },
   "outputs": [
    {
     "name": "stdout",
     "output_type": "stream",
     "text": [
      "lambda r:{x : Ind, c_{human} : (lambda v:Ind . human(v), [x]), y : Ind, c_{dog} : (lambda v:Ind . dog(v), [y]), z : Ind, c_{stick} : (lambda v:Ind . stick(v), [z]), e : (lambda v_1:Ind . lambda v_2:Ind . lambda v_3:Ind . pick_up(v_1, v_3)^attract_attention(v_1, v_2), [x, y, z])} . {e : play_fetch([r, ., x], [r, ., y])}\n"
     ]
    },
    {
     "data": {
      "text/latex": [
       "\\begin{equation}\\lambda r:\\left\\{\\begin{array}{rcl}\n",
       "x &:& Ind\\\\\n",
       "c_{human} &:& \\langle \\lambda v:Ind . human(v), [ x]\\rangle\\\\\n",
       "y &:& Ind\\\\\n",
       "c_{dog} &:& \\langle \\lambda v:Ind . dog(v), [ y]\\rangle\\\\\n",
       "z &:& Ind\\\\\n",
       "c_{stick} &:& \\langle \\lambda v:Ind . stick(v), [ z]\\rangle\\\\\n",
       "e &:& \\langle \\lambda v_1:Ind . \\lambda v_2:Ind . \\lambda v_3:Ind . pick\\_up(v_1, v_3)⁀attract\\_attention(v_1, v_2), [ x, y, z]\\rangle\n",
       "\\end{array}\\right\\} . \\left\\{\\begin{array}{rcl}\n",
       "e &:& play\\_fetch([ r, ., x], [ r, ., y])\n",
       "\\end{array}\\right\\}\\end{equation}"
      ],
      "text/plain": [
       "<IPython.core.display.Latex object>"
      ]
     },
     "execution_count": 25,
     "metadata": {},
     "output_type": "execute_result"
    }
   ],
   "source": [
    "human = Pred('human',[Ind])\n",
    "stick = Pred('stick',[Ind])\n",
    "play_fetch = Pred('play_fetch',[Ind,Ind])\n",
    "T = RecType({'x':Ind,\n",
    "             'c_{human}':(Fun('v',Ind,PType(human,['v'])),['x']),\n",
    "             'y':Ind,\n",
    "             'c_{dog}':(Fun('v',Ind,PType(dog,['v'])),['y']),\n",
    "             'z':Ind,\n",
    "             'c_{stick}':(Fun('v',Ind,PType(stick,['v'])),['z']),\n",
    "             'e':(Fun('v_1',Ind,Fun('v_2',Ind,Fun('v_3',Ind, \n",
    "                                                TTRStringType([PType(pick_up,['v_1','v_3']),\n",
    "                                                               PType(attract_attention,['v_1','v_2'])])))),\n",
    "                 ['x','y','z'])})\n",
    "f = Fun('r',T,RecType({'e':PType(play_fetch,[LazyObj(['r','.','x']),LazyObj(['r','.','y'])])}))\n",
    "\n",
    "print(show(f))\n",
    "show_latex(f)"
   ]
  },
  {
   "cell_type": "code",
   "execution_count": 22,
   "metadata": {
    "collapsed": false
   },
   "outputs": [
    {
     "name": "stdout",
     "output_type": "stream",
     "text": [
      "\\begin{equation}\\lambda r:\\left\\{\\begin{array}{rcl}\n",
      "x &:& Ind\\\\\n",
      "c_{human} &:& \\langle \\lambda v:Ind . human(v), [ x]\\rangle\\\\\n",
      "y &:& Ind\\\\\n",
      "c_{dog} &:& \\langle \\lambda v:Ind . dog(v), [ y]\\rangle\\\\\n",
      "z &:& Ind\\\\\n",
      "c_{stick} &:& \\langle \\lambda v:Ind . stick(v), [ z]\\rangle\\\\\n",
      "e &:& \\langle \\lambda v1:Ind . \\lambda v2:Ind . \\lambda v3:Ind . pick\\_up(v1, v3)⁀attract\\_attention(v1, v2), [ x, y, z]\\rangle\n",
      "\\end{array}\\right\\} . \\left\\{\\begin{array}{rcl}\n",
      "e &:& play\\_fetch([ r, ., x], [ r, ., y])\n",
      "\\end{array}\\right\\}\\end{equation}\n"
     ]
    }
   ],
   "source": [
    "print_latex(f)"
   ]
  },
  {
   "cell_type": "code",
   "execution_count": null,
   "metadata": {
    "collapsed": true
   },
   "outputs": [],
   "source": []
  }
 ],
 "metadata": {
  "kernelspec": {
   "display_name": "Python 3",
   "language": "python",
   "name": "python3"
  },
  "language_info": {
   "codemirror_mode": {
    "name": "ipython",
    "version": 3
   },
   "file_extension": ".py",
   "mimetype": "text/x-python",
   "name": "python",
   "nbconvert_exporter": "python",
   "pygments_lexer": "ipython3",
   "version": "3.6.1"
  }
 },
 "nbformat": 4,
 "nbformat_minor": 2
}
